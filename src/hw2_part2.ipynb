{
  "nbformat": 4,
  "nbformat_minor": 0,
  "metadata": {
    "colab": {
      "name": "Untitled10.ipynb",
      "provenance": [],
      "collapsed_sections": []
    },
    "kernelspec": {
      "name": "python3",
      "display_name": "Python 3"
    },
    "language_info": {
      "name": "python"
    }
  },
  "cells": [
    {
      "cell_type": "markdown",
      "source": [
        "**Скачиваем данные и устанавливаем программы**"
      ],
      "metadata": {
        "id": "U3DHQSviaW9Q"
      }
    },
    {
      "cell_type": "code",
      "source": [
        "!wget https://raw.githubusercontent.com/alexburde/hse21_hw2/main/data/gms2.lst"
      ],
      "metadata": {
        "colab": {
          "base_uri": "https://localhost:8080/"
        },
        "id": "tBzHU5ktaYeA",
        "outputId": "61f4132c-6358-492f-fb2c-c52aa2eada8e"
      },
      "execution_count": 4,
      "outputs": [
        {
          "output_type": "stream",
          "name": "stdout",
          "text": [
            "--2021-12-18 12:40:19--  https://raw.githubusercontent.com/alexburde/hse21_hw2/main/data/gms2.lst\n",
            "Resolving raw.githubusercontent.com (raw.githubusercontent.com)... 185.199.110.133, 185.199.108.133, 185.199.111.133, ...\n",
            "Connecting to raw.githubusercontent.com (raw.githubusercontent.com)|185.199.110.133|:443... connected.\n",
            "HTTP request sent, awaiting response... 200 OK\n",
            "Length: 219652 (215K) [text/plain]\n",
            "Saving to: ‘gms2.lst’\n",
            "\n",
            "gms2.lst            100%[===================>] 214.50K  --.-KB/s    in 0.03s   \n",
            "\n",
            "2021-12-18 12:40:19 (7.96 MB/s) - ‘gms2.lst’ saved [219652/219652]\n",
            "\n"
          ]
        }
      ]
    },
    {
      "cell_type": "code",
      "source": [
        "!wget https://raw.githubusercontent.com/alexburde/hse21_hw2/main/data/Poil_scaffold.fa"
      ],
      "metadata": {
        "colab": {
          "base_uri": "https://localhost:8080/"
        },
        "id": "UV2ziJteabrN",
        "outputId": "38acbbd2-71c7-4729-ac4f-b56b003ab8e5"
      },
      "execution_count": 5,
      "outputs": [
        {
          "output_type": "stream",
          "name": "stdout",
          "text": [
            "--2021-12-18 12:40:21--  https://raw.githubusercontent.com/alexburde/hse21_hw2/main/data/Poil_scaffold.fa\n",
            "Resolving raw.githubusercontent.com (raw.githubusercontent.com)... 185.199.108.133, 185.199.109.133, 185.199.110.133, ...\n",
            "Connecting to raw.githubusercontent.com (raw.githubusercontent.com)|185.199.108.133|:443... connected.\n",
            "HTTP request sent, awaiting response... 200 OK\n",
            "Length: 3926990 (3.7M) [text/plain]\n",
            "Saving to: ‘Poil_scaffold.fa’\n",
            "\n",
            "Poil_scaffold.fa    100%[===================>]   3.74M  --.-KB/s    in 0.07s   \n",
            "\n",
            "2021-12-18 12:40:22 (51.9 MB/s) - ‘Poil_scaffold.fa’ saved [3926990/3926990]\n",
            "\n"
          ]
        }
      ]
    },
    {
      "cell_type": "code",
      "source": [
        "!wget https://raw.githubusercontent.com/alexburde/hse21_hw2/main/data/proteins.fasta"
      ],
      "metadata": {
        "colab": {
          "base_uri": "https://localhost:8080/"
        },
        "id": "lXRcUOywabxa",
        "outputId": "5bfe152d-27c0-4475-c9d6-c513ba2d4ab6"
      },
      "execution_count": 6,
      "outputs": [
        {
          "output_type": "stream",
          "name": "stdout",
          "text": [
            "--2021-12-18 12:40:24--  https://raw.githubusercontent.com/alexburde/hse21_hw2/main/data/proteins.fasta\n",
            "Resolving raw.githubusercontent.com (raw.githubusercontent.com)... 185.199.108.133, 185.199.109.133, 185.199.110.133, ...\n",
            "Connecting to raw.githubusercontent.com (raw.githubusercontent.com)|185.199.108.133|:443... connected.\n",
            "HTTP request sent, awaiting response... 200 OK\n",
            "Length: 1426954 (1.4M) [text/plain]\n",
            "Saving to: ‘proteins.fasta’\n",
            "\n",
            "\rproteins.fasta        0%[                    ]       0  --.-KB/s               \rproteins.fasta      100%[===================>]   1.36M  --.-KB/s    in 0.05s   \n",
            "\n",
            "2021-12-18 12:40:24 (25.4 MB/s) - ‘proteins.fasta’ saved [1426954/1426954]\n",
            "\n"
          ]
        }
      ]
    },
    {
      "cell_type": "code",
      "source": [
        "!wget https://raw.githubusercontent.com/alexburde/hse21_hw2/main/data/scaffolds.hits_from_MIL_1.txt"
      ],
      "metadata": {
        "colab": {
          "base_uri": "https://localhost:8080/"
        },
        "id": "PBuygp69ab3J",
        "outputId": "494dd8f9-7f62-43c0-deb4-a9006be1bd1e"
      },
      "execution_count": 7,
      "outputs": [
        {
          "output_type": "stream",
          "name": "stdout",
          "text": [
            "--2021-12-18 12:40:29--  https://raw.githubusercontent.com/alexburde/hse21_hw2/main/data/scaffolds.hits_from_MIL_1.txt\n",
            "Resolving raw.githubusercontent.com (raw.githubusercontent.com)... 185.199.111.133, 185.199.110.133, 185.199.109.133, ...\n",
            "Connecting to raw.githubusercontent.com (raw.githubusercontent.com)|185.199.111.133|:443... connected.\n",
            "HTTP request sent, awaiting response... 200 OK\n",
            "Length: 832357 (813K) [text/plain]\n",
            "Saving to: ‘scaffolds.hits_from_MIL_1.txt’\n",
            "\n",
            "scaffolds.hits_from 100%[===================>] 812.85K  --.-KB/s    in 0.04s   \n",
            "\n",
            "2021-12-18 12:40:30 (18.1 MB/s) - ‘scaffolds.hits_from_MIL_1.txt’ saved [832357/832357]\n",
            "\n"
          ]
        }
      ]
    },
    {
      "cell_type": "code",
      "source": [
        "!wget https://raw.githubusercontent.com/alexburde/hse21_hw2/main/data/scaffolds.hits_from_SwissProt.txt"
      ],
      "metadata": {
        "colab": {
          "base_uri": "https://localhost:8080/"
        },
        "id": "p86vEQ4Yab81",
        "outputId": "0bec897a-8294-433e-ef3e-8a755946f606"
      },
      "execution_count": 8,
      "outputs": [
        {
          "output_type": "stream",
          "name": "stdout",
          "text": [
            "--2021-12-18 12:40:32--  https://raw.githubusercontent.com/alexburde/hse21_hw2/main/data/scaffolds.hits_from_SwissProt.txt\n",
            "Resolving raw.githubusercontent.com (raw.githubusercontent.com)... 185.199.108.133, 185.199.109.133, 185.199.110.133, ...\n",
            "Connecting to raw.githubusercontent.com (raw.githubusercontent.com)|185.199.108.133|:443... connected.\n",
            "HTTP request sent, awaiting response... 200 OK\n",
            "Length: 65260 (64K) [text/plain]\n",
            "Saving to: ‘scaffolds.hits_from_SwissProt.txt’\n",
            "\n",
            "\r          scaffolds   0%[                    ]       0  --.-KB/s               \rscaffolds.hits_from 100%[===================>]  63.73K  --.-KB/s    in 0.01s   \n",
            "\n",
            "2021-12-18 12:40:32 (5.49 MB/s) - ‘scaffolds.hits_from_SwissProt.txt’ saved [65260/65260]\n",
            "\n"
          ]
        }
      ]
    },
    {
      "cell_type": "markdown",
      "source": [
        "**Скачиваем геном близкородственной бактерии T.oleivorans**"
      ],
      "metadata": {
        "id": "FjkfC20tdidu"
      }
    },
    {
      "cell_type": "markdown",
      "source": [
        "Геном, последовательности генов (нт) и белков (протеом) для бактерии Thalassolituus oleivorans MIL-1"
      ],
      "metadata": {
        "id": "K0gJ5queds1e"
      }
    },
    {
      "cell_type": "code",
      "source": [
        "!sh -c \"$(curl -fsSL ftp://ftp.ncbi.nlm.nih.gov/entrez/entrezdirect/install-edirect.sh)\""
      ],
      "metadata": {
        "colab": {
          "base_uri": "https://localhost:8080/"
        },
        "id": "Lpv6nJwJb5ho",
        "outputId": "6bbf4c95-b670-4dde-ce84-29d8a4e64875"
      },
      "execution_count": 9,
      "outputs": [
        {
          "output_type": "stream",
          "name": "stdout",
          "text": [
            "\n",
            "Entrez Direct has been successfully downloaded and installed.\n",
            "\n",
            "In order to complete the configuration process, please execute the following:\n",
            "\n",
            "  echo \"export PATH=\\${PATH}:/root/edirect\" >> ${HOME}/.bashrc\n",
            "\n",
            "or manually edit the PATH variable assignment in your .bashrc file.\n",
            "\n",
            "Would you like to do that automatically now? [y/N]\n",
            "y\n",
            "OK, done.\n",
            "\n",
            "To activate EDirect for this terminal session, please execute the following:\n",
            "\n",
            "export PATH=${PATH}:${HOME}/edirect\n",
            "\n"
          ]
        }
      ]
    },
    {
      "cell_type": "code",
      "source": [
        "!$HOME/edirect/efetch -db nuccore -id HF680312 -format gb  >  T_oleivorans_MIL_1.gbk"
      ],
      "metadata": {
        "id": "NQ_IYxr0b5tf"
      },
      "execution_count": 10,
      "outputs": []
    },
    {
      "cell_type": "code",
      "source": [
        "!pip install biopython"
      ],
      "metadata": {
        "colab": {
          "base_uri": "https://localhost:8080/"
        },
        "id": "iYi-2x2Ib52A",
        "outputId": "27bf8402-0cfa-406f-b517-1a48188d91ea"
      },
      "execution_count": 11,
      "outputs": [
        {
          "output_type": "stream",
          "name": "stdout",
          "text": [
            "Collecting biopython\n",
            "  Downloading biopython-1.79-cp37-cp37m-manylinux_2_5_x86_64.manylinux1_x86_64.whl (2.3 MB)\n",
            "\u001b[K     |████████████████████████████████| 2.3 MB 5.3 MB/s \n",
            "\u001b[?25hRequirement already satisfied: numpy in /usr/local/lib/python3.7/dist-packages (from biopython) (1.19.5)\n",
            "Installing collected packages: biopython\n",
            "Successfully installed biopython-1.79\n"
          ]
        }
      ]
    },
    {
      "cell_type": "markdown",
      "source": [
        "**Аннотация генома (пример)**"
      ],
      "metadata": {
        "id": "ws2etRsYepDL"
      }
    },
    {
      "cell_type": "code",
      "source": [
        "!head -n 20 gms2.lst"
      ],
      "metadata": {
        "colab": {
          "base_uri": "https://localhost:8080/"
        },
        "id": "z8CmHylPlaym",
        "outputId": "b2716430-0fb4-455f-e7d9-6428f9e5e73e"
      },
      "execution_count": 12,
      "outputs": [
        {
          "output_type": "stream",
          "name": "stdout",
          "text": [
            "# GeneMark.hmm-2 LST format\n",
            "# GeneMark.hmm-2 prokaryotic version: 1.25_lic\n",
            "# File with sequence: Poil_scaffold.fa\n",
            "# File with native parameters: GMS2.mod\n",
            "# Native species name and build: unspecified GeneMarkS-2-1.14_1.25_lic\n",
            "# File with MetaGeneMark parameters: /content/gms2_linux_64/mgm_11.mod\n",
            "# translation table: 11\n",
            "# output date start: Fri Dec 17 16:04:00 2021\n",
            "\n",
            "# sequence-region 1 3838213\n",
            "SequenceID: scaffold1_len3838202_cov232\n",
            "     1   -   <3    323     321 native ATGAGG 6 1\n",
            "     2   -    396    839     444 atypical GCGAGA 5 1\n",
            "     3   -    864    1385     522 atypical AGGAAG 6 1\n",
            "     4   -    1823    2650     828 atypical AGGATT 9 1\n",
            "     5   +    2996    3118     123 native TGGAGG 6 1\n",
            "     6   -    3293    4027     735 native AGGTCA 7 1\n",
            "     7   -    4365    5540    1176 native AGGAGA 8 1\n",
            "     8   -    5565    7712    2148 native TGGAGA 7 1\n",
            "     9   +    8081    8875     795 native AGTAGA 5 1\n"
          ]
        }
      ]
    },
    {
      "cell_type": "code",
      "source": [
        "from Bio import SeqIO\n",
        "\n",
        "recs = []\n",
        "orders = []\n",
        "\n",
        "for record in SeqIO.parse(\"/content/Poil_scaffold.fa\", \"fasta\"):\n",
        "    recs.append(record)\n",
        "    orders.append(record.id[record.id.find('cov')+3:])"
      ],
      "metadata": {
        "id": "4uvDkN_nlkvv"
      },
      "execution_count": 13,
      "outputs": []
    },
    {
      "cell_type": "code",
      "source": [
        "print(\"Количество скаффолдов: \", len(recs))"
      ],
      "metadata": {
        "colab": {
          "base_uri": "https://localhost:8080/"
        },
        "id": "vqne7DL0qD96",
        "outputId": "b8fe08ef-5019-4313-f291-a1ca32383c7f"
      },
      "execution_count": 14,
      "outputs": [
        {
          "output_type": "stream",
          "name": "stdout",
          "text": [
            "Количество скаффолдов:  69\n"
          ]
        }
      ]
    },
    {
      "cell_type": "code",
      "source": [
        "for record in recs:\n",
        "    record.annotations['molecule_type'] = 'DNA'\n",
        "    record.format(\"genbank\")"
      ],
      "metadata": {
        "colab": {
          "base_uri": "https://localhost:8080/"
        },
        "id": "QYAgR9Wa7XtN",
        "outputId": "423420a0-9c6e-4aa8-8f1a-95fd5479a85a"
      },
      "execution_count": 15,
      "outputs": [
        {
          "output_type": "stream",
          "name": "stderr",
          "text": [
            "/usr/local/lib/python3.7/dist-packages/Bio/SeqIO/InsdcIO.py:730: BiopythonWarning: Increasing length of locus line to allow long name. This will result in fields that are not in usual positions.\n",
            "  BiopythonWarning,\n"
          ]
        }
      ]
    },
    {
      "cell_type": "code",
      "source": [
        "SeqIO.write(recs, \"GENOME.gbk\", \"genbank\")"
      ],
      "metadata": {
        "colab": {
          "base_uri": "https://localhost:8080/"
        },
        "id": "srZUiFGb7dXI",
        "outputId": "2f69dedb-7bd9-4863-9065-5203ef02b548"
      },
      "execution_count": 16,
      "outputs": [
        {
          "output_type": "stream",
          "name": "stderr",
          "text": [
            "/usr/local/lib/python3.7/dist-packages/Bio/SeqIO/InsdcIO.py:730: BiopythonWarning: Increasing length of locus line to allow long name. This will result in fields that are not in usual positions.\n",
            "  BiopythonWarning,\n"
          ]
        },
        {
          "output_type": "execute_result",
          "data": {
            "text/plain": [
              "69"
            ]
          },
          "metadata": {},
          "execution_count": 16
        }
      ]
    },
    {
      "cell_type": "markdown",
      "source": [
        "**Добавляем координаты генов**"
      ],
      "metadata": {
        "id": "Wo07eOg77rkc"
      }
    },
    {
      "cell_type": "code",
      "source": [
        "from pprint import pprint\n",
        "from Bio.SeqFeature import SeqFeature, FeatureLocation\n",
        "\n",
        "fts = {}\n",
        "flag = 0\n",
        "i = 0\n",
        "\n",
        "f = open('gms2.lst', 'r')\n",
        "for line in f:\n",
        "    if flag == 1 and line[0] == '#':\n",
        "        flag = 0\n",
        "    elif line[:10] == 'SequenceID':\n",
        "        flag = 1\n",
        "        i = line[line.find('cov')+3:line.find('\\n')]\n",
        "        fts[i] = []\n",
        "\n",
        "    elif flag == 1:\n",
        "        idx = int(line[:6])\n",
        "        strand = line[9]\n",
        "        if strand == '-':\n",
        "            strand = -1\n",
        "        elif strand == '+':\n",
        "            strand = 1\n",
        "        else:\n",
        "            strand = 0\n",
        "        start = int(line[14:line.find(\" \", 14)])\n",
        "        end = int(line[line.find(\" \", 14)+4: line.find(\" \", line.find(\" \", 14)+4)])\n",
        "        sc = SeqFeature(FeatureLocation(start, end, strand=strand), type=\"CDS\")\n",
        "        sc.qualifiers['locus_tag'] = [str(idx)]\n",
        "        fts[i].append(sc)"
      ],
      "metadata": {
        "id": "iWXbLjHK7tIG"
      },
      "execution_count": 17,
      "outputs": []
    },
    {
      "cell_type": "code",
      "source": [
        "for i, record in enumerate(recs):\n",
        "    record.features = fts[orders[i]]"
      ],
      "metadata": {
        "id": "lFYr7TtC7x9J"
      },
      "execution_count": 18,
      "outputs": []
    },
    {
      "cell_type": "code",
      "source": [
        "SeqIO.write(recs, \"GENOME.gbk\", \"genbank\")"
      ],
      "metadata": {
        "colab": {
          "base_uri": "https://localhost:8080/"
        },
        "id": "uUcL1aXm72bV",
        "outputId": "f4ec1a71-9005-4fa1-a3bc-dc8ec1dfedfe"
      },
      "execution_count": 19,
      "outputs": [
        {
          "output_type": "stream",
          "name": "stderr",
          "text": [
            "/usr/local/lib/python3.7/dist-packages/Bio/SeqIO/InsdcIO.py:730: BiopythonWarning: Increasing length of locus line to allow long name. This will result in fields that are not in usual positions.\n",
            "  BiopythonWarning,\n"
          ]
        },
        {
          "output_type": "execute_result",
          "data": {
            "text/plain": [
              "69"
            ]
          },
          "metadata": {},
          "execution_count": 19
        }
      ]
    },
    {
      "cell_type": "markdown",
      "source": [
        "**Добавляем трансляции генов (аминокислотные посл-ти)**"
      ],
      "metadata": {
        "id": "Fj2GFZch7-id"
      }
    },
    {
      "cell_type": "code",
      "source": [
        "for record in SeqIO.parse(\"proteins.fasta\", \"fasta\"):\n",
        "    for key in fts.keys():\n",
        "        for f in fts[key]:\n",
        "            if record.id == f.qualifiers['locus_tag'][0]:\n",
        "                f.qualifiers['translation'] = [record.seq]"
      ],
      "metadata": {
        "id": "UUo9AY2l9dud"
      },
      "execution_count": 20,
      "outputs": []
    },
    {
      "cell_type": "code",
      "source": [
        "for i, record in enumerate(recs):\n",
        "    record.features = fts[orders[i]]"
      ],
      "metadata": {
        "id": "yh_rY1Cc8HZc"
      },
      "execution_count": 21,
      "outputs": []
    },
    {
      "cell_type": "code",
      "source": [
        "SeqIO.write(recs, \"GENOME.gbk\", \"genbank\")"
      ],
      "metadata": {
        "id": "IqNMctXD8Hks",
        "colab": {
          "base_uri": "https://localhost:8080/"
        },
        "outputId": "504b3e13-2e58-4a96-ec5d-d66ed96ba7b8"
      },
      "execution_count": 22,
      "outputs": [
        {
          "output_type": "stream",
          "name": "stderr",
          "text": [
            "/usr/local/lib/python3.7/dist-packages/Bio/SeqIO/InsdcIO.py:730: BiopythonWarning: Increasing length of locus line to allow long name. This will result in fields that are not in usual positions.\n",
            "  BiopythonWarning,\n"
          ]
        },
        {
          "output_type": "execute_result",
          "data": {
            "text/plain": [
              "69"
            ]
          },
          "metadata": {},
          "execution_count": 22
        }
      ]
    },
    {
      "cell_type": "code",
      "source": [
        "pprint(vars(fts[orders[0]][0]))"
      ],
      "metadata": {
        "id": "CnLdru2S8Hv1",
        "colab": {
          "base_uri": "https://localhost:8080/"
        },
        "outputId": "29fb3e6b-c1d1-4a0c-86ee-d0ea4cb855d5"
      },
      "execution_count": 23,
      "outputs": [
        {
          "output_type": "stream",
          "name": "stdout",
          "text": [
            "{'id': '<unknown id>',\n",
            " 'location': FeatureLocation(ExactPosition(3), ExactPosition(323), strand=-1),\n",
            " 'qualifiers': OrderedDict([('locus_tag', ['1']),\n",
            "                            ('translation',\n",
            "                             [Seq('MPKYTKPRKTWQYSNEFKVKAVQLSLIEGIQVKEVAVTLDIHPFMLSRWRKEYR...LKK')])]),\n",
            " 'type': 'CDS'}\n"
          ]
        }
      ]
    },
    {
      "cell_type": "markdown",
      "source": [
        "**Добавляем функции белков (из бактерии MIL-1)**"
      ],
      "metadata": {
        "id": "wyr3VZT280_C"
      }
    },
    {
      "cell_type": "markdown",
      "source": [
        "Часть файла scaffolds.hits_from_MIL_1.txt:"
      ],
      "metadata": {
        "id": "tpVk2Ziv88z-"
      }
    },
    {
      "cell_type": "code",
      "source": [
        "f = open('scaffolds.hits_from_MIL_1.txt', 'r')\n",
        "was = ''\n",
        "for line in f:\n",
        "    idx = line[:line.find('\\t')]\n",
        "    if was != idx:\n",
        "        was = idx\n",
        "        content = line[line.find('CCU'):line.find('.',line.find('CCU'))+2]\n",
        "        exitFlag=False\n",
        "        for i in orders:\n",
        "            for sc in fts[i]:\n",
        "                if sc.qualifiers['locus_tag'][0] == idx:\n",
        "                    sc.qualifiers['note'] = [content]\n",
        "                    exitFlag=True\n",
        "                    break\n",
        "            if exitFlag:\n",
        "                break"
      ],
      "metadata": {
        "id": "Kf4DrXSz82cJ"
      },
      "execution_count": 24,
      "outputs": []
    },
    {
      "cell_type": "code",
      "source": [
        "pprint(fts[orders[0]][2].qualifiers['note'])"
      ],
      "metadata": {
        "id": "uFIV3L1P9E_a",
        "colab": {
          "base_uri": "https://localhost:8080/"
        },
        "outputId": "3029af7e-12b2-4373-bfd9-6591da9a3efe"
      },
      "execution_count": 25,
      "outputs": [
        {
          "output_type": "stream",
          "name": "stdout",
          "text": [
            "['CCU71928.1']\n"
          ]
        }
      ]
    },
    {
      "cell_type": "code",
      "source": [
        "mil_1_genome = SeqIO.read(\"/content/T_oleivorans_MIL_1.gbk\", \"genbank\")"
      ],
      "metadata": {
        "id": "yfl7KPX19HhX"
      },
      "execution_count": 26,
      "outputs": []
    },
    {
      "cell_type": "code",
      "source": [
        "for  mil_f in mil_1_genome.features:\n",
        "  if 'protein_id' not in mil_f.qualifiers:\n",
        "    continue\n",
        "    \n",
        "  for j in fts.keys():\n",
        "        for f in fts[j]:\n",
        "            if 'note' in f.qualifiers: \n",
        "                if f.qualifiers['note'][0] == mil_f.qualifiers['protein_id'][0]:\n",
        "                    f.qualifiers['product'] = mil_f.qualifiers['product']"
      ],
      "metadata": {
        "id": "7GQ_QPpa9LW3"
      },
      "execution_count": 27,
      "outputs": []
    },
    {
      "cell_type": "code",
      "source": [
        "pprint(fts[orders[0]][0].qualifiers)"
      ],
      "metadata": {
        "id": "YPn6eDDw9PwL",
        "colab": {
          "base_uri": "https://localhost:8080/"
        },
        "outputId": "92c8beab-c16f-4187-e795-6a64820bd922"
      },
      "execution_count": 28,
      "outputs": [
        {
          "output_type": "stream",
          "name": "stdout",
          "text": [
            "OrderedDict([('locus_tag', ['1']),\n",
            "             ('translation',\n",
            "              [Seq('MPKYTKPRKTWQYSNEFKVKAVQLSLIEGIQVKEVAVTLDIHPFMLSRWRKEYR...LKK')]),\n",
            "             ('note', ['CCU71653.1']),\n",
            "             ('product', ['transposase orfA'])])\n"
          ]
        }
      ]
    },
    {
      "cell_type": "code",
      "source": [
        "for i, record in enumerate(recs):\n",
        "    record.features = fts[orders[i]]"
      ],
      "metadata": {
        "id": "oufWpFvI9Ssg"
      },
      "execution_count": 29,
      "outputs": []
    },
    {
      "cell_type": "code",
      "source": [
        "SeqIO.write(recs, \"GENOME.gbk\", \"genbank\")"
      ],
      "metadata": {
        "id": "mFhZKHy89fKR",
        "colab": {
          "base_uri": "https://localhost:8080/"
        },
        "outputId": "c0df8a69-418c-431b-bd3e-278ff98758fa"
      },
      "execution_count": 30,
      "outputs": [
        {
          "output_type": "stream",
          "name": "stderr",
          "text": [
            "/usr/local/lib/python3.7/dist-packages/Bio/SeqIO/InsdcIO.py:730: BiopythonWarning: Increasing length of locus line to allow long name. This will result in fields that are not in usual positions.\n",
            "  BiopythonWarning,\n"
          ]
        },
        {
          "output_type": "execute_result",
          "data": {
            "text/plain": [
              "69"
            ]
          },
          "metadata": {},
          "execution_count": 30
        }
      ]
    },
    {
      "cell_type": "markdown",
      "source": [
        "**Добавляем функции белков (из БД SwissProt)**"
      ],
      "metadata": {
        "id": "mipLs1sa9lEr"
      }
    },
    {
      "cell_type": "markdown",
      "source": [
        "Читаем информацию из файла scaffolds.hits_from_SwissProt.txt"
      ],
      "metadata": {
        "id": "CcEUU5u29pUj"
      }
    },
    {
      "cell_type": "code",
      "source": [
        "!head scaffolds.hits_from_SwissProt.txt"
      ],
      "metadata": {
        "id": "fd0p_jCp9hts",
        "colab": {
          "base_uri": "https://localhost:8080/"
        },
        "outputId": "f34d4135-4653-4ec0-e542-ecc076fcc2d3"
      },
      "execution_count": 31,
      "outputs": [
        {
          "output_type": "stream",
          "name": "stdout",
          "text": [
            "169\tsp|P55546|Y4LF_SINFN\t42.553\t141\t80\t1\t1\t141\t1\t140\t1.17e-36\t144\n",
            "428\tsp|Q06916|GUFA_MYXXA\t43.802\t242\t136\t0\t71\t312\t13\t254\t2.32e-47\t162\n",
            "428\tsp|Q3B4G1|ZUPT_CHLL3\t34.016\t244\t148\t6\t72\t304\t17\t258\t6.79e-25\t103\n",
            "428\tsp|Q8N1S5|S39AB_HUMAN\t40.625\t160\t83\t3\t162\t312\t186\t342\t1.63e-23\t101\n",
            "428\tsp|Q6P6S2|S39AB_RAT\t40.000\t160\t84\t3\t162\t312\t179\t335\t2.02e-23\t101\n",
            "428\tsp|Q2YDD4|S39AB_BOVIN\t40.000\t160\t84\t3\t162\t312\t185\t341\t2.61e-23\t101\n",
            "428\tsp|Q8NQK0|ZUPT_CORGL\t35.968\t253\t144\t7\t67\t306\t10\t257\t1.82e-22\t97.4\n",
            "428\tsp|Q8BWY7|S39AB_MOUSE\t41.176\t153\t78\t3\t169\t312\t193\t342\t2.68e-22\t98.6\n",
            "428\tsp|B3ECE6|ZUPT_CHLL2\t34.000\t250\t146\t10\t71\t306\t16\t260\t5.33e-22\t96.3\n",
            "428\tsp|Q28J44|S39AB_XENTR\t39.623\t159\t84\t3\t163\t312\t181\t336\t1.08e-21\t96.7\n"
          ]
        }
      ]
    },
    {
      "cell_type": "markdown",
      "source": [
        "Получить функции белков SwissProt из файла:\n",
        "\n"
      ],
      "metadata": {
        "id": "belOuNMF9wrx"
      }
    },
    {
      "cell_type": "code",
      "source": [
        "!wget https://ftp.uniprot.org/pub/databases/uniprot/current_release/knowledgebase/complete/uniprot_sprot.dat.gz"
      ],
      "metadata": {
        "id": "PyWRLP_E9r6U",
        "colab": {
          "base_uri": "https://localhost:8080/"
        },
        "outputId": "940ee5bd-7fb5-46b4-c1b2-b09e52e14319"
      },
      "execution_count": 1,
      "outputs": [
        {
          "output_type": "stream",
          "name": "stdout",
          "text": [
            "--2021-12-18 12:26:06--  https://ftp.uniprot.org/pub/databases/uniprot/current_release/knowledgebase/complete/uniprot_sprot.dat.gz\n",
            "Resolving ftp.uniprot.org (ftp.uniprot.org)... 128.175.240.195\n",
            "Connecting to ftp.uniprot.org (ftp.uniprot.org)|128.175.240.195|:443... connected.\n",
            "HTTP request sent, awaiting response... 200 OK\n",
            "Length: 625798251 (597M) [application/x-gzip]\n",
            "Saving to: ‘uniprot_sprot.dat.gz’\n",
            "\n",
            "uniprot_sprot.dat.g 100%[===================>] 596.81M  89.8MB/s    in 6.9s    \n",
            "\n",
            "2021-12-18 12:26:13 (86.1 MB/s) - ‘uniprot_sprot.dat.gz’ saved [625798251/625798251]\n",
            "\n"
          ]
        }
      ]
    },
    {
      "cell_type": "code",
      "source": [
        "!gzip -d uniprot_sprot.dat.gz"
      ],
      "metadata": {
        "id": "6o_Xn7VQ98II"
      },
      "execution_count": 2,
      "outputs": []
    },
    {
      "cell_type": "code",
      "source": [
        "!grep Q55EH8 uniprot_sprot.dat"
      ],
      "metadata": {
        "id": "_Mh-XKLp9_J9",
        "colab": {
          "base_uri": "https://localhost:8080/"
        },
        "outputId": "d121c256-7328-4283-a14c-79a98b36208f"
      },
      "execution_count": 3,
      "outputs": [
        {
          "output_type": "stream",
          "name": "stdout",
          "text": [
            "AC   Q55EH8;\n",
            "DR   PaxDb; Q55EH8; -.\n",
            "DR   InParanoid; Q55EH8; -.\n",
            "DR   PhylomeDB; Q55EH8; -.\n",
            "DR   PRO; PR:Q55EH8; -.\n"
          ]
        }
      ]
    }
  ]
}